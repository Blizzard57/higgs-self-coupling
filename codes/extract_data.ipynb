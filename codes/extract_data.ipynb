{
 "metadata": {
  "language_info": {
   "codemirror_mode": {
    "name": "ipython",
    "version": 3
   },
   "file_extension": ".py",
   "mimetype": "text/x-python",
   "name": "python",
   "nbconvert_exporter": "python",
   "pygments_lexer": "ipython3",
   "version": "3.8.5"
  },
  "orig_nbformat": 2,
  "kernelspec": {
   "name": "python385jvsc74a57bd031f2aee4e71d21fbe5cf8b01ff0e069b9275f58929596ceb00d14d90e3e16cd6",
   "display_name": "Python 3.8.5 64-bit"
  },
  "metadata": {
   "interpreter": {
    "hash": "31f2aee4e71d21fbe5cf8b01ff0e069b9275f58929596ceb00d14d90e3e16cd6"
   }
  }
 },
 "nbformat": 4,
 "nbformat_minor": 2,
 "cells": [
  {
   "source": [
    "# Dataset Generation\n",
    "\n",
    "Dataset for the process $pp \\rightarrow hh \\rightarrow b\\overline{b}WW*$. The process done before this is the generation of process using the predefined run card in MadGraph followed by default Pythia8 and finally ending with Delphes Simulator result, where modifications are made in the delphes card itself."
   ],
   "cell_type": "markdown",
   "metadata": {}
  },
  {
   "cell_type": "code",
   "execution_count": 3,
   "metadata": {},
   "outputs": [],
   "source": [
    "# Imports pyRoot, which requires a manual compile as defaut ROOT binary comes with a python2 support\n",
    "import ROOT\n",
    "from ROOT import TLorentzVector\n",
    "from math import sqrt"
   ]
  },
  {
   "source": [
    "## Compile Instructions\n",
    "\n",
    "Get the latest package by pulling the Git Repository\n",
    "> git clone http://root.cern.ch/git/root.git\n",
    "\n",
    "Then checkout the latest stable branch (6.22 at the time of writing)\n",
    "> git checkout -b v6-22-00 v6-22-00\n",
    "\n",
    "That is the source folder, which is renamed to root_src for differenciation, and two folders for building and installation are genrated\n",
    "> mv root root_src\n",
    "\n",
    "> mkdir root_install root_build\n",
    "\n",
    "Then, go to the build folder for compilation\n",
    "> cmake -DCMAKE_INSTALL_PREFIX=../root_install -DGSL_DIR=\"/usr/local\" -DPYTHON_EXECUTABLE=\"/usr/bin/python3\" -DPYTHON_INCLUDE_DIR=\"/usr/include/python3.8/\" -DPYTHON_LIBRARY=\"/usr/lib/python3.8/\" -Dbuiltin_xrootd=\"ON\" -Dpython3=\"ON\" -Droofit=\"ON\" ../root_src\n",
    "\n",
    "> cmake --build . --target install -j 8\n",
    "\n",
    "Then wait till the compilation is over.\n",
    "\n",
    "To call root as a command, source the thisroot.sh file, which can be done as follows :\n",
    "> source ./root_install/bin/thisroot.sh\n",
    "\n",
    "Or to let it be done everytime,\n",
    "> cat ~/.bashrc << source thisroot.sh\n",
    "\n"
   ],
   "cell_type": "markdown",
   "metadata": {}
  },
  {
   "source": [
    "## Sourcing all the libraries\n",
    "\n",
    "The bashrc should contain the following\n",
    "\n",
    "> export ROOTSYS=/home/blizzard/Applications/root/root_install\n",
    " \n",
    "> export PATH=`$PATH:$ROOTSYS/bin`\n",
    " \n",
    "> export LD_LIBRARY_PATH=`$LD_LIBRARY_PATH:$ROOTSYS/lib`\n",
    "\n",
    "\n",
    "> export LD_LIBRARY_PATH=`/home/blizzard/Applications/madGraph/Delphes:$LD_LIBRARY_PATH`\n",
    "\n",
    "> export ROOT_INCLUDE_PATH=`/home/blizzard/Applications/madgraph/Delphes/external/`\n",
    "\n",
    "\n",
    "> export ROOT_INCLUDE_PATH=`/home/blizzard/Applications/madGraph/Delphes/classes/:$ROOT_INCLUDE_PATH`\n",
    "\n",
    "> export PYTHONPATH=`$PYTHONPATH:$ROOT_INCLUDE_PATH`\n"
   ],
   "cell_type": "markdown",
   "metadata": {}
  },
  {
   "cell_type": "code",
   "execution_count": 4,
   "metadata": {
    "tags": []
   },
   "outputs": [
    {
     "output_type": "stream",
     "name": "stderr",
     "text": [
      "cling::DynamicLibraryManager::loadLibrary(): libCore.so.6.22: cannot open shared object file: No such file or directory\nWarning in <TClass::Init>: no dictionary for class HepMCEvent is available\nWarning in <TClass::Init>: no dictionary for class Event is available\nWarning in <TClass::Init>: no dictionary for class Weight is available\nWarning in <TClass::Init>: no dictionary for class GenParticle is available\nWarning in <TClass::Init>: no dictionary for class SortableObject is available\nWarning in <TClass::Init>: no dictionary for class Track is available\nWarning in <TClass::Init>: no dictionary for class Tower is available\nWarning in <TClass::Init>: no dictionary for class Jet is available\nWarning in <TClass::Init>: no dictionary for class MissingET is available\nWarning in <TClass::Init>: no dictionary for class Electron is available\nWarning in <TClass::Init>: no dictionary for class Photon is available\nWarning in <TClass::Init>: no dictionary for class Muon is available\nWarning in <TClass::Init>: no dictionary for class ScalarHT is available\n"
     ]
    }
   ],
   "source": [
    "# For importing this correctly, the bashrc needs to have the correct imports as given above\n",
    "ROOT.gSystem.Load(\"libDelphes.so\")\n",
    "myfile = ROOT.TFile(\"/home/blizzard/Tests/hh_bbWW/Events/run_01/tag_1_delphes_events.root\")"
   ]
  },
  {
   "source": [
    "## The n-tuple\n",
    "\n",
    "The required n-tuple for the machine learning algorithm to work is <photon,lepton,jet,MET,pt,E,m>, where the first four items are identifiers for the respective particles\n",
    "\n",
    "## Root tree and their information\n",
    "\n",
    "The required information on all the root tree is given in the link :  https://cp3.irmp.ucl.ac.be/projects/delphes/wiki/WorkBook/RootTreeDescription"
   ],
   "cell_type": "markdown",
   "metadata": {}
  },
  {
   "source": [
    "## The Azimuthal Angle\n",
    "\n",
    "The angular distance between two nodes is to mapped in a different table, but the text later goes on to describe it as \"difference in azimuthal angle is encoded in edge weights\", but in the original explaination links the following equation :\n",
    "\n",
    "$ \\Delta R_{ij} = \\sqrt{(\\Delta \\Phi_{ij})^2 + (\\Delta \\eta_{ij})^2} $"
   ],
   "cell_type": "markdown",
   "metadata": {}
  },
  {
   "cell_type": "code",
   "execution_count": 5,
   "metadata": {},
   "outputs": [],
   "source": [
    "# The hyperparameters\n",
    "\n",
    "isRapid = True           # Definition of the table\n",
    "totalEvents = 10000      # Total number of Events in the dataset"
   ]
  },
  {
   "cell_type": "code",
   "execution_count": 20,
   "metadata": {
    "tags": []
   },
   "outputs": [],
   "source": [
    "directory = str(\"/home/blizzard/Tests/hh_bbWW/Events/run_01/tag_1_delphes_events.root\")\n",
    "\n",
    "File = ROOT.TChain(\"Delphes;1\")\n",
    "File.Add(directory)\n",
    "totalEvents = File.GetEntries()\n",
    "\n",
    "eventDict = []\n",
    "for i in range(totalEvents):\n",
    "\tEntry = File.GetEntry(i)\n",
    "\n",
    "\tepArray = []\n",
    "\tezArray = []\n",
    "\taz_angle = [] # Azimuthal Angle\n",
    "\tra_angle = [] # Rapidity\n",
    "\n",
    "\tEntryFromBranch = File.Photon.GetEntries()\t\n",
    "\tfor j in range(EntryFromBranch):\n",
    "\t\tparticleArray = [1,0,0,0,File.GetLeaf(\"Photon.PT\").GetValue(j),File.GetLeaf(\"Photon.E\").GetValue(j),0]\n",
    "\t\tepArray.append(particleArray)\n",
    "\t\t\n",
    "\t\taz_angle.append(File.GetLeaf(\"Photon.Phi\").GetValue(j))\n",
    "\t\tra_angle.append(File.GetLeaf(\"Photon.Eta\").GetValue(j))\n",
    "\t\t\n",
    "\n",
    "\tEntryFromBranch = File.Jet.GetEntries()\n",
    "\tfor j in range(EntryFromBranch):\n",
    "\n",
    "\t\tJet = TLorentzVector()\n",
    "\t\tJet.SetPtEtaPhiM(File.GetLeaf(\"Jet.PT\").GetValue(j),File.GetLeaf(\"Jet.Eta\").GetValue(j),File.GetLeaf(\"Jet.Phi\").GetValue(j),File.GetLeaf(\"Jet.Mass\").GetValue(j))\n",
    "\n",
    "\t\tparticleArray = [0,0,1 if int(File.GetLeaf(\"Jet.BTag\").GetValue(j)) == 1 else -1,0,File.GetLeaf(\"Jet.PT\").GetValue(j),Jet.Energy(),File.GetLeaf(\"Jet.Mass\").GetValue(j)]\n",
    "\t\tepArray.append(particleArray)\n",
    "\n",
    "\t\taz_angle.append(File.GetLeaf(\"Jet.Phi\").GetValue(j))\n",
    "\t\tra_angle.append(File.GetLeaf(\"Jet.Eta\").GetValue(j))\n",
    "\n",
    "\tEntryFromBranch = File.Electron.GetEntries()\n",
    "\tfor j in range(EntryFromBranch):\n",
    "\t\tElectron = TLorentzVector()\n",
    "\t\tElectron.SetPtEtaPhiM(File.GetLeaf(\"Electron.PT\").GetValue(j),File.GetLeaf(\"Electron.Eta\").GetValue(j),File.GetLeaf(\"Electron.Phi\").GetValue(j),0)\n",
    "\n",
    "\t\tparticleArray = [0,int(File.GetLeaf(\"Electron.Charge\").GetValue(j)),0,0,File.GetLeaf(\"Electron.PT\").GetValue(j),Electron.Energy(),0]\n",
    "\t\tepArray.append(particleArray)\n",
    "\t\t\n",
    "\t\taz_angle.append(File.GetLeaf(\"Electron.Phi\").GetValue(j))\n",
    "\t\tra_angle.append(File.GetLeaf(\"Electron.Eta\").GetValue(j))\n",
    "\n",
    "\n",
    "\tEntryFromBranch = File.MissingET.GetEntries()\n",
    "\tfor j in range(EntryFromBranch):\n",
    "\t\tparticleArray = [0,0,0,1,File.GetLeaf(\"MissingET.MET\").GetValue(j),File.GetLeaf(\"MissingET.MET\").GetValue(j),0]\t\n",
    "\t\tepArray.append(particleArray)\n",
    "\n",
    "\t\taz_angle.append(File.GetLeaf(\"MissingET.Phi\").GetValue(j))\n",
    "\t\tra_angle.append(File.GetLeaf(\"MissingET.Eta\").GetValue(j))\n",
    "\n",
    "\n",
    "\tEntryFromBranch = File.Muon.GetEntries()\n",
    "\tfor j in range(EntryFromBranch):\n",
    "\t\t\n",
    "\t\tMuon = TLorentzVector()\n",
    "\t\tMuon.SetPtEtaPhiM(File.GetLeaf(\"Muon.PT\").GetValue(j),File.GetLeaf(\"Muon.Eta\").GetValue(j),File.GetLeaf(\"Muon.Phi\").GetValue(j),0)\n",
    "\t\t\n",
    "\t\tparticleArray = [0,int(File.GetLeaf(\"Muon.Charge\").GetValue(j)),0,0,File.GetLeaf(\"Muon.PT\").GetValue(j),Muon.Energy(),0]\n",
    "\t\tepArray.append(particleArray)\n",
    "\t\t\n",
    "\t\taz_angle.append(File.GetLeaf(\"Muon.Phi\").GetValue(j))\n",
    "\t\tra_angle.append(File.GetLeaf(\"Muon.Eta\").GetValue(j))\n",
    "\t\t\n",
    "\n",
    "\t# Getting the Angular Angle Distance\n",
    "\tnoPart = len(az_angle) # Number of particles in the event\n",
    "\n",
    "\tif isRapid:\n",
    "\t\tfor i in range(noPart):\n",
    "\t\t\ttempAng = []\n",
    "\t\t\tfor j in range(noPart):\n",
    "\t\t\t\ttempAng.append(sqrt((az_angle[i] - az_angle[j])**2 + (ra_angle[i] - ra_angle[j])**2))\n",
    "\t\t\tezArray.append(tempAng)\n",
    "\n",
    "\telse:\n",
    "\t\tfor i in range(noPart):\n",
    "\t\t\ttempAng = []\n",
    "\t\t\tfor j in range(noPart):\n",
    "\t\t\t\ttempAng.append(az_angle[i] - az_angle[j])\n",
    "\t\t\tezArray.append(tempAng)\n",
    "\n",
    "\teventDict.append({\"fourMomenta\" : epArray,\"azimuthalAngle\" : ezArray})"
   ]
  },
  {
   "source": [
    "## Issues\n",
    "\n",
    "These are issues faced by me currently in the process of dataset generation:\n",
    "- The mass of leptons is not available in the root tree ($m_{ll}$)\n",
    "- The Energy of leptons, jets and MET is not available\n",
    "\n",
    "Possbile Fixes/Updates\n",
    "- Online source claims that lepton enrgy is taken to be zero (not in the dataset though)\n",
    "- For MET, the Energy and the PT is the same"
   ],
   "cell_type": "markdown",
   "metadata": {}
  },
  {
   "source": [
    "## Sample Record\n",
    "\n",
    "Details of a sample record shown for demonstration"
   ],
   "cell_type": "markdown",
   "metadata": {}
  },
  {
   "cell_type": "code",
   "execution_count": 34,
   "metadata": {},
   "outputs": [],
   "source": [
    "from numpy.random import randint\n",
    "record = randint(0,10000)"
   ]
  },
  {
   "cell_type": "code",
   "execution_count": 35,
   "metadata": {},
   "outputs": [
    {
     "output_type": "stream",
     "name": "stdout",
     "text": [
      " Photon | Lepton | Jet  | MET |  pt   |   E   |  mass \n------------------------------------------------------\n   0    |    0   |   1  |  0  | 67.251| 94.001|  9.958\n   0    |    0   |  -1  |  0  | 46.790| 49.050|  9.706\n   0    |    0   |   0  |  1  | 52.767| 52.767|  0.000\n   0    |    1   |   0  |  0  | 36.211| 37.718|  0.000\n   0    |   -1   |   0  |  0  | 27.239| 28.656|  0.000\n"
     ]
    }
   ],
   "source": [
    "print(\" Photon | Lepton | Jet  | MET |  pt   |   E   |  mass \")\n",
    "print(\"------------------------------------------------------\")\n",
    "for i in eventDict[record][\"fourMomenta\"]:\n",
    "    print(\"   \"+ str(i[0]) + \"    |\" + \"   \" +str('%2d' % i[1]) + \"   |\" + \"  \"+str('%2d'%i[2])+\"  |\" + \"  \"+ str(i[3]) + \"  |\" + str('%7.3f' % i[4]) + \"|\" + str('%7.3f' % i[5]) + \"|\" + str('%7.3f' % i[6]))"
   ]
  },
  {
   "cell_type": "code",
   "execution_count": 36,
   "metadata": {},
   "outputs": [
    {
     "output_type": "stream",
     "name": "stdout",
     "text": [
      "          |    0     |    1     |    2     |    3     |    4     |\n------------------------------------------------------------------\n    0     |   0.00000|   3.66944|   3.35174|   1.34734|   1.51756|\n    1     |   3.66944|   0.00000|   1.81539|   2.39565|   2.71686|\n    2     |   3.35174|   1.81539|   0.00000|   2.57588|   3.18915|\n    3     |   1.34734|   2.39565|   2.57588|   0.00000|   0.66370|\n    4     |   1.51756|   2.71686|   3.18915|   0.66370|   0.00000|\n"
     ]
    }
   ],
   "source": [
    "partNo = len(eventDict[record][\"azimuthalAngle\"])\n",
    "\n",
    "print(\" \"*10 + \"|\",end=\"\")\n",
    "for i in range(partNo):\n",
    "    print('%5d'%i + \"     |\",end=\"\")\n",
    "print()\n",
    "print(\"-----------\"*(partNo+1))\n",
    "\n",
    "for i in range(partNo):\n",
    "    print('%5d'%i + \"     |\",end=\"\")\n",
    "    for j in range(partNo):\n",
    "        print('%10.5f'%eventDict[record][\"azimuthalAngle\"][i][j] + \"|\",end=\"\")\n",
    "    print()\n",
    "        "
   ]
  },
  {
   "source": [
    "## Exporting the Dataset\n",
    "\n",
    "Exporting the dataset as a hdf5 due to the dimensionality of the dataset.\n",
    "\n",
    "$\\dim(x) = \\mathcal{R}^2$ <br>\n",
    "$\\dim(X) = \\mathcal{R}^3$"
   ],
   "cell_type": "markdown",
   "metadata": {}
  },
  {
   "cell_type": "code",
   "execution_count": 24,
   "metadata": {},
   "outputs": [],
   "source": [
    "import h5py\n",
    "import numpy as np\n",
    "import awkward as ak\n",
    "import pandas as pd\n",
    "import json"
   ]
  },
  {
   "cell_type": "code",
   "execution_count": 25,
   "metadata": {},
   "outputs": [],
   "source": [
    "xArray = []\n",
    "for i in range(totalEvents):\n",
    "    xArray.append(eventDict[i][\"fourMomenta\"])\n",
    "\n",
    "azArray = []\n",
    "for i in range(totalEvents):\n",
    "    azArray.append(eventDict[i][\"azimuthalAngle\"])"
   ]
  },
  {
   "cell_type": "code",
   "execution_count": 26,
   "metadata": {},
   "outputs": [],
   "source": [
    "hf = h5py.File('MPNN_Dataset.h5','w')\n",
    "partArray = hf.create_group(\"ParticleArray\")\n",
    "azimuthalArray = hf.create_group(\"AzimuthalAngle\")"
   ]
  },
  {
   "cell_type": "code",
   "execution_count": 27,
   "metadata": {},
   "outputs": [],
   "source": [
    "# Convert Particle Array to HDF5 Group\n",
    "\n",
    "ak_array = ak.from_iter(xArray)\n",
    "form, length, container = ak.to_buffers(ak_array,container=partArray)\n",
    "partArray.attrs[\"form\"] = form.tojson()\n",
    "partArray.attrs[\"length\"] = json.dumps(length)"
   ]
  },
  {
   "cell_type": "code",
   "execution_count": 28,
   "metadata": {},
   "outputs": [],
   "source": [
    "# Convert Azimuthal Angle Array to HDF5 Group\n",
    "\n",
    "ak_array = ak.from_iter(azArray)\n",
    "form, length, container = ak.to_buffers(ak_array,container=azimuthalArray)\n",
    "azimuthalArray.attrs[\"form\"] = form.tojson()\n",
    "azimuthalArray.attrs[\"length\"] = json.dumps(length)"
   ]
  },
  {
   "cell_type": "code",
   "execution_count": 29,
   "metadata": {},
   "outputs": [],
   "source": [
    "hf.close()"
   ]
  },
  {
   "source": [
    "## Accesor\n",
    "\n",
    "Creating an accesor that converts the generated HDF5 file to python list for demonstration"
   ],
   "cell_type": "markdown",
   "metadata": {}
  },
  {
   "cell_type": "code",
   "execution_count": 30,
   "metadata": {},
   "outputs": [],
   "source": [
    "hf = h5py.File('MPNN_Dataset.h5','r')\n",
    "partArray = hf.get(\"ParticleArray\")\n",
    "azimuthalArray = hf.get(\"AzimuthalAngle\")"
   ]
  },
  {
   "cell_type": "code",
   "execution_count": 31,
   "metadata": {},
   "outputs": [
    {
     "output_type": "execute_result",
     "data": {
      "text/plain": [
       "<Array [[[0, 0.706, 1.32, ... 3.45, 2.83, 0]]] type='10000 * var * var * float64'>"
      ]
     },
     "metadata": {},
     "execution_count": 31
    }
   ],
   "source": [
    "reconstitutedPartArray = ak.from_buffers(\n",
    "    ak.forms.Form.fromjson(partArray.attrs[\"form\"]),\n",
    "    json.loads(partArray.attrs[\"length\"]),\n",
    "    {k: np.asarray(v) for k, v in partArray.items()},\n",
    ")\n",
    "reconstitutedPartArray\n",
    "\n",
    "reconstitutedAzAngle = ak.from_buffers(\n",
    "    ak.forms.Form.fromjson(azimuthalArray.attrs[\"form\"]),\n",
    "    json.loads(azimuthalArray.attrs[\"length\"]),\n",
    "    {k: np.asarray(v) for k, v in azimuthalArray.items()},\n",
    ")\n",
    "reconstitutedAzAngle"
   ]
  },
  {
   "cell_type": "code",
   "execution_count": 32,
   "metadata": {},
   "outputs": [],
   "source": [
    "particleArray = ak.to_list(reconstitutedPartArray)\n",
    "azArray = ak.to_list(reconstitutedAzAngle)"
   ]
  },
  {
   "cell_type": "code",
   "execution_count": 33,
   "metadata": {},
   "outputs": [
    {
     "output_type": "stream",
     "name": "stdout",
     "text": [
      "10000 6 7\n"
     ]
    }
   ],
   "source": [
    "print(len(particleArray),len(particleArray[0]),len(particleArray[0][0]))"
   ]
  }
 ]
}