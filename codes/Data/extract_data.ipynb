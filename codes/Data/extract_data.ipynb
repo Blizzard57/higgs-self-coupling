{
 "metadata": {
  "language_info": {
   "codemirror_mode": {
    "name": "ipython",
    "version": 3
   },
   "file_extension": ".py",
   "mimetype": "text/x-python",
   "name": "python",
   "nbconvert_exporter": "python",
   "pygments_lexer": "ipython3",
   "version": "3.9.5"
  },
  "orig_nbformat": 2,
  "kernelspec": {
   "name": "python395jvsc74a57bd0767d51c1340bd893661ea55ea3124f6de3c7a262a8b4abca0554b478b1e2ff90",
   "display_name": "Python 3.9.5 64-bit"
  },
  "metadata": {
   "interpreter": {
    "hash": "767d51c1340bd893661ea55ea3124f6de3c7a262a8b4abca0554b478b1e2ff90"
   }
  }
 },
 "nbformat": 4,
 "nbformat_minor": 2,
 "cells": [
  {
   "source": [
    "# Dataset Generation\n",
    "\n",
    "Dataset for the process $pp \\rightarrow hh \\rightarrow b\\overline{b}WW*$. The process done before this is the generation of process using the predefined run card in MadGraph followed by default Pythia8 and finally ending with Delphes Simulator result, where modifications are made in the delphes card itself."
   ],
   "cell_type": "markdown",
   "metadata": {}
  },
  {
   "cell_type": "code",
   "execution_count": 1,
   "metadata": {},
   "outputs": [
    {
     "output_type": "stream",
     "name": "stdout",
     "text": [
      "Welcome to JupyROOT 6.24/00\n"
     ]
    }
   ],
   "source": [
    "# Imports pyRoot, which requires a manual compile as defaut ROOT binary comes with a python2 support\n",
    "import ROOT\n",
    "from ROOT import TLorentzVector\n",
    "from math import sqrt"
   ]
  },
  {
   "source": [
    "## Compile Instructions\n",
    "\n",
    "Get the latest package by pulling the Git Repository\n",
    "> git clone http://root.cern.ch/git/root.git\n",
    "\n",
    "Then checkout the latest stable branch (6.22 at the time of writing)\n",
    "> git checkout -b v6-22-00 v6-22-00\n",
    "\n",
    "That is the source folder, which is renamed to root_src for differenciation, and two folders for building and installation are genrated\n",
    "> mv root root_src\n",
    "\n",
    "> mkdir root_install root_build\n",
    "\n",
    "Then, go to the build folder for compilation\n",
    "> cmake -DCMAKE_INSTALL_PREFIX=../root_install -DGSL_DIR=\"/usr/local\" -DPYTHON_EXECUTABLE=\"/usr/bin/python3\" -DPYTHON_INCLUDE_DIR=\"/usr/include/python3.8/\" -DPYTHON_LIBRARY=\"/usr/lib/python3.8/\" -Dbuiltin_xrootd=\"ON\" -Dpython3=\"ON\" -Droofit=\"ON\" ../root_src\n",
    "\n",
    "> cmake --build . --target install -j 8\n",
    "\n",
    "Then wait till the compilation is over.\n",
    "\n",
    "To call root as a command, source the thisroot.sh file, which can be done as follows :\n",
    "> source ./root_install/bin/thisroot.sh\n",
    "\n",
    "Or to let it be done everytime,\n",
    "> cat ~/.bashrc << source thisroot.sh\n",
    "\n"
   ],
   "cell_type": "markdown",
   "metadata": {}
  },
  {
   "source": [
    "## Sourcing all the libraries\n",
    "\n",
    "The bashrc should contain the following\n",
    "\n",
    "> export ROOTSYS=/home/blizzard/Applications/root/root_install\n",
    " \n",
    "> export PATH=`$PATH:$ROOTSYS/bin`\n",
    " \n",
    "> export LD_LIBRARY_PATH=`$LD_LIBRARY_PATH:$ROOTSYS/lib`\n",
    "\n",
    "\n",
    "> export LD_LIBRARY_PATH=`/home/blizzard/Applications/madGraph/Delphes:$LD_LIBRARY_PATH`\n",
    "\n",
    "> export ROOT_INCLUDE_PATH=`/home/blizzard/Applications/madgraph/Delphes/external/`\n",
    "\n",
    "\n",
    "> export ROOT_INCLUDE_PATH=`/home/blizzard/Applications/madGraph/Delphes/classes/:$ROOT_INCLUDE_PATH`\n",
    "\n",
    "> export PYTHONPATH=`$PYTHONPATH:$ROOT_INCLUDE_PATH`\n"
   ],
   "cell_type": "markdown",
   "metadata": {}
  },
  {
   "cell_type": "code",
   "execution_count": 16,
   "metadata": {
    "tags": []
   },
   "outputs": [],
   "source": [
    "# For importing this correctly, the bashrc needs to have the correct imports as given above\n",
    "ROOT.gSystem.Load(\"libDelphes.so\")\n",
    "myfile = ROOT.TFile(\"/home/blizzard/Tests/bbWW/hh_10k/Events/run_01/tag_1_delphes_events.root\")"
   ]
  },
  {
   "source": [
    "## The n-tuple\n",
    "\n",
    "The required n-tuple for the machine learning algorithm to work is <photon,lepton,jet,MET,pt,E,m>, where the first four items are identifiers for the respective particles\n",
    "\n",
    "## Root tree and their information\n",
    "\n",
    "The required information on all the root tree is given in the link :  https://cp3.irmp.ucl.ac.be/projects/delphes/wiki/WorkBook/RootTreeDescription"
   ],
   "cell_type": "markdown",
   "metadata": {}
  },
  {
   "source": [
    "## The Azimuthal Angle\n",
    "\n",
    "The angular distance between two nodes is to mapped in a different table, but the text later goes on to describe it as \"difference in azimuthal angle is encoded in edge weights\", but in the original explaination links the following equation :\n",
    "\n",
    "$ \\Delta R_{ij} = \\sqrt{(\\Delta \\Phi_{ij})^2 + (\\Delta \\eta_{ij})^2} $"
   ],
   "cell_type": "markdown",
   "metadata": {}
  },
  {
   "cell_type": "code",
   "execution_count": 17,
   "metadata": {},
   "outputs": [],
   "source": [
    "# The hyperparameters\n",
    "\n",
    "isRapid = True           # Definition of the table\n",
    "totalEvents = 10000      # Total number of Events in the dataset"
   ]
  },
  {
   "cell_type": "code",
   "execution_count": 15,
   "metadata": {
    "tags": []
   },
   "outputs": [],
   "source": [
    "directory = str(\"/home/blizzard/Tests/bbWW/hh_10k/Events/run_01/tag_1_delphes_events.root\")\n",
    "\n",
    "File = ROOT.TChain(\"Delphes;1\")\n",
    "File.Add(directory)\n",
    "totalEvents = File.GetEntries()\n",
    "\n",
    "eventDict = []\n",
    "for i in range(totalEvents):\n",
    "\tEntry = File.GetEntry(i)\n",
    "\n",
    "\tepArray = []\n",
    "\tezArray = []\n",
    "\taz_angle = [] # Azimuthal Angle\n",
    "\tra_angle = [] # Rapidity\n",
    "\n",
    "\tEntryFromBranch = File.Photon.GetEntries()\t\n",
    "\tfor j in range(EntryFromBranch):\n",
    "\t\tparticleArray = [1,0,0,0,File.GetLeaf(\"Photon.PT\").GetValue(j),File.GetLeaf(\"Photon.E\").GetValue(j),0]\n",
    "\t\tepArray.append(particleArray)\n",
    "\t\t\n",
    "\t\taz_angle.append(File.GetLeaf(\"Photon.Phi\").GetValue(j))\n",
    "\t\tra_angle.append(File.GetLeaf(\"Photon.Eta\").GetValue(j))\n",
    "\t\t\n",
    "\n",
    "\tEntryFromBranch = File.Jet.GetEntries()\n",
    "\tfor j in range(EntryFromBranch):\n",
    "\n",
    "\t\tJet = TLorentzVector()\n",
    "\t\tJet.SetPtEtaPhiM(File.GetLeaf(\"Jet.PT\").GetValue(j),File.GetLeaf(\"Jet.Eta\").GetValue(j),File.GetLeaf(\"Jet.Phi\").GetValue(j),File.GetLeaf(\"Jet.Mass\").GetValue(j))\n",
    "\n",
    "\t\tparticleArray = [0,0,1 if int(File.GetLeaf(\"Jet.BTag\").GetValue(j)) == 1 else -1,0,File.GetLeaf(\"Jet.PT\").GetValue(j),Jet.Energy(),File.GetLeaf(\"Jet.Mass\").GetValue(j)]\n",
    "\t\tepArray.append(particleArray)\n",
    "\n",
    "\t\taz_angle.append(File.GetLeaf(\"Jet.Phi\").GetValue(j))\n",
    "\t\tra_angle.append(File.GetLeaf(\"Jet.Eta\").GetValue(j))\n",
    "\n",
    "\tEntryFromBranch = File.Electron.GetEntries()\n",
    "\tfor j in range(EntryFromBranch):\n",
    "\t\tElectron = TLorentzVector()\n",
    "\t\tElectron.SetPtEtaPhiM(File.GetLeaf(\"Electron.PT\").GetValue(j),File.GetLeaf(\"Electron.Eta\").GetValue(j),File.GetLeaf(\"Electron.Phi\").GetValue(j),0)\n",
    "\n",
    "\t\tparticleArray = [0,int(File.GetLeaf(\"Electron.Charge\").GetValue(j)),0,0,File.GetLeaf(\"Electron.PT\").GetValue(j),Electron.Energy(),0]\n",
    "\t\tepArray.append(particleArray)\n",
    "\t\t\n",
    "\t\taz_angle.append(File.GetLeaf(\"Electron.Phi\").GetValue(j))\n",
    "\t\tra_angle.append(File.GetLeaf(\"Electron.Eta\").GetValue(j))\n",
    "\n",
    "\n",
    "\tEntryFromBranch = File.MissingET.GetEntries()\n",
    "\tfor j in range(EntryFromBranch):\n",
    "\t\tparticleArray = [0,0,0,1,File.GetLeaf(\"MissingET.MET\").GetValue(j),File.GetLeaf(\"MissingET.MET\").GetValue(j),0]\t\n",
    "\t\tepArray.append(particleArray)\n",
    "\n",
    "\t\taz_angle.append(File.GetLeaf(\"MissingET.Phi\").GetValue(j))\n",
    "\t\tra_angle.append(File.GetLeaf(\"MissingET.Eta\").GetValue(j))\n",
    "\n",
    "\n",
    "\tEntryFromBranch = File.Muon.GetEntries()\n",
    "\tfor j in range(EntryFromBranch):\n",
    "\t\t\n",
    "\t\tMuon = TLorentzVector()\n",
    "\t\tMuon.SetPtEtaPhiM(File.GetLeaf(\"Muon.PT\").GetValue(j),File.GetLeaf(\"Muon.Eta\").GetValue(j),File.GetLeaf(\"Muon.Phi\").GetValue(j),0)\n",
    "\t\t\n",
    "\t\tparticleArray = [0,int(File.GetLeaf(\"Muon.Charge\").GetValue(j)),0,0,File.GetLeaf(\"Muon.PT\").GetValue(j),Muon.Energy(),0]\n",
    "\t\tepArray.append(particleArray)\n",
    "\t\t\n",
    "\t\taz_angle.append(File.GetLeaf(\"Muon.Phi\").GetValue(j))\n",
    "\t\tra_angle.append(File.GetLeaf(\"Muon.Eta\").GetValue(j))\n",
    "\t\t\n",
    "\n",
    "\t# Getting the Angular Angle Distance\n",
    "\tnoPart = len(az_angle) # Number of particles in the event\n",
    "\n",
    "\tif isRapid:\n",
    "\t\tfor i in range(noPart):\n",
    "\t\t\ttempAng = []\n",
    "\t\t\tfor j in range(noPart):\n",
    "\t\t\t\ttempAng.append(sqrt((az_angle[i] - az_angle[j])**2 + (ra_angle[i] - ra_angle[j])**2))\n",
    "\t\t\tezArray.append(tempAng)\n",
    "\n",
    "\telse:\n",
    "\t\tfor i in range(noPart):\n",
    "\t\t\ttempAng = []\n",
    "\t\t\tfor j in range(noPart):\n",
    "\t\t\t\ttempAng.append(az_angle[i] - az_angle[j])\n",
    "\t\t\tezArray.append(tempAng)\n",
    "\n",
    "\teventDict.append({\"fourMomenta\" : epArray,\"azimuthalAngle\" : ezArray,\n",
    "                              \"phiList\" : az_angle,\"etaList\" : ra_angle})"
   ]
  },
  {
   "source": [
    "## Issues\n",
    "\n",
    "These are issues faced by me currently in the process of dataset generation:\n",
    "- The mass of leptons is not available in the root tree ($m_{ll}$)\n",
    "- The Energy of leptons, jets and MET is not available\n",
    "\n",
    "Possbile Fixes/Updates\n",
    "- Online source claims that lepton enrgy is taken to be zero (not in the dataset though)\n",
    "- For MET, the Energy and the PT is the same"
   ],
   "cell_type": "markdown",
   "metadata": {}
  },
  {
   "source": [
    "## Sample Record\n",
    "\n",
    "Details of a sample record shown for demonstration"
   ],
   "cell_type": "markdown",
   "metadata": {}
  },
  {
   "cell_type": "code",
   "execution_count": 18,
   "metadata": {},
   "outputs": [],
   "source": [
    "from numpy.random import randint\n",
    "record = randint(0,10000)"
   ]
  },
  {
   "cell_type": "code",
   "execution_count": 19,
   "metadata": {},
   "outputs": [
    {
     "output_type": "stream",
     "name": "stdout",
     "text": [
      " Photon | Lepton | Jet  | MET |  pt   |   E   |  mass \n------------------------------------------------------\n   0    |    0   |  -1  |  0  |135.462|137.829| 13.709\n   0    |    0   |   1  |  0  | 58.324|225.508|  9.179\n   0    |    0   |  -1  |  0  | 58.169|125.806|  4.549\n   0    |    0   |   1  |  0  | 29.502| 37.244|  4.574\n   0    |    0   |   0  |  1  | 64.241| 64.241|  0.000\n   0    |    1   |   0  |  0  | 71.555|138.901|  0.000\n"
     ]
    }
   ],
   "source": [
    "print(\" Photon | Lepton | Jet  | MET |  pt   |   E   |  mass \")\n",
    "print(\"------------------------------------------------------\")\n",
    "for i in eventDict[record][\"fourMomenta\"]:\n",
    "    print(\"   \"+ str(i[0]) + \"    |\" + \"   \" +str('%2d' % i[1]) + \"   |\" + \"  \"+str('%2d'%i[2])+\"  |\" + \"  \"+ str(i[3]) + \"  |\" + str('%7.3f' % i[4]) + \"|\" + str('%7.3f' % i[5]) + \"|\" + str('%7.3f' % i[6]))"
   ]
  },
  {
   "cell_type": "code",
   "execution_count": 20,
   "metadata": {},
   "outputs": [
    {
     "output_type": "stream",
     "name": "stdout",
     "text": [
      "          |    0     |    1     |    2     |    3     |    4     |    5     |\n-----------------------------------------------------------------------------\n    0     |   0.00000|   2.78618|   1.54378|   2.35286|   4.23584|   3.06858|\n    1     |   2.78618|   0.00000|   3.03853|   4.55431|   5.28456|   4.97653|\n    2     |   1.54378|   3.03853|   0.00000|   1.55254|   5.77954|   1.95013|\n    3     |   2.35286|   4.55431|   1.55254|   0.00000|   6.22495|   0.81344|\n    4     |   4.23584|   5.28456|   5.77954|   6.22495|   0.00000|   7.03326|\n    5     |   3.06858|   4.97653|   1.95013|   0.81344|   7.03326|   0.00000|\n"
     ]
    }
   ],
   "source": [
    "partNo = len(eventDict[record][\"azimuthalAngle\"])\n",
    "\n",
    "print(\" \"*10 + \"|\",end=\"\")\n",
    "for i in range(partNo):\n",
    "    print('%5d'%i + \"     |\",end=\"\")\n",
    "print()\n",
    "print(\"-----------\"*(partNo+1))\n",
    "\n",
    "for i in range(partNo):\n",
    "    print('%5d'%i + \"     |\",end=\"\")\n",
    "    for j in range(partNo):\n",
    "        print('%10.5f'%eventDict[record][\"azimuthalAngle\"][i][j] + \"|\",end=\"\")\n",
    "    print()\n",
    "        "
   ]
  },
  {
   "source": [
    "## Exporting the Dataset\n",
    "\n",
    "Exporting the dataset as a hdf5 due to the dimensionality of the dataset.\n",
    "\n",
    "$\\dim(x) = \\mathcal{R}^2$ <br>\n",
    "$\\dim(X) = \\mathcal{R}^3$"
   ],
   "cell_type": "markdown",
   "metadata": {}
  },
  {
   "cell_type": "code",
   "execution_count": 21,
   "metadata": {},
   "outputs": [],
   "source": [
    "import h5py\n",
    "import numpy as np\n",
    "import awkward as ak\n",
    "import pandas as pd\n",
    "import json"
   ]
  },
  {
   "cell_type": "code",
   "execution_count": 22,
   "metadata": {},
   "outputs": [],
   "source": [
    "xArray = []\n",
    "for i in range(totalEvents):\n",
    "    xArray.append(eventDict[i][\"fourMomenta\"])\n",
    "\n",
    "azArray = []\n",
    "for i in range(totalEvents):\n",
    "    azArray.append(eventDict[i][\"azimuthalAngle\"])\n",
    "\n",
    "eta = []\n",
    "for i in range(totalEvents):\n",
    "    eta.append(eventDict[i][\"etaList\"])\n",
    "\n",
    "phi = []\n",
    "for i in range(totalEvents):\n",
    "    phi.append(eventDict[i][\"phiList\"])"
   ]
  },
  {
   "cell_type": "code",
   "execution_count": 95,
   "metadata": {},
   "outputs": [],
   "source": [
    "hf = h5py.File('MPNN_Dataset.h5','w')\n",
    "partArray = hf.create_group(\"ParticleArray\")\n",
    "azimuthalArray = hf.create_group(\"AzimuthalAngle\")\n",
    "etaArray = hf.create_group(\"EtaAngle\")\n",
    "phiArray = hf.create_group(\"PhiAngle\")"
   ]
  },
  {
   "cell_type": "code",
   "execution_count": 96,
   "metadata": {},
   "outputs": [
    {
     "output_type": "execute_result",
     "data": {
      "text/plain": [
       "<KeysViewHDF5 ['part0-node0-offsets', 'part0-node1-offsets', 'part0-node2-data']>"
      ]
     },
     "metadata": {},
     "execution_count": 96
    }
   ],
   "source": [
    "# Convert Particle Array to HDF5 Group\n",
    "\n",
    "ak_array = ak.from_iter(xArray)\n",
    "form, length, container = ak.to_buffers(ak_array,container=partArray)\n",
    "partArray.attrs[\"form\"] = form.tojson()\n",
    "partArray.attrs[\"length\"] = json.dumps(length)\n",
    "partArray.keys()"
   ]
  },
  {
   "cell_type": "code",
   "execution_count": 97,
   "metadata": {},
   "outputs": [
    {
     "output_type": "execute_result",
     "data": {
      "text/plain": [
       "<KeysViewHDF5 ['part0-node0-offsets', 'part0-node1-offsets', 'part0-node2-data']>"
      ]
     },
     "metadata": {},
     "execution_count": 97
    }
   ],
   "source": [
    "# Convert Azimuthal Angle Array to HDF5 Group\n",
    "\n",
    "ak_array = ak.from_iter(azArray)\n",
    "form, length, container = ak.to_buffers(ak_array,container=azimuthalArray)\n",
    "azimuthalArray.attrs[\"form\"] = form.tojson()\n",
    "azimuthalArray.attrs[\"length\"] = json.dumps(length)\n",
    "azimuthalArray.keys()"
   ]
  },
  {
   "cell_type": "code",
   "execution_count": 98,
   "metadata": {},
   "outputs": [
    {
     "output_type": "execute_result",
     "data": {
      "text/plain": [
       "<KeysViewHDF5 ['part0-node0-offsets', 'part0-node1-data']>"
      ]
     },
     "metadata": {},
     "execution_count": 98
    }
   ],
   "source": [
    "ak_array = ak.from_iter(eta)\n",
    "form, length, container = ak.to_buffers(ak_array,container=etaArray)\n",
    "etaArray.attrs[\"form\"] = form.tojson()\n",
    "etaArray.attrs[\"length\"] = json.dumps(length)\n",
    "etaArray.keys()"
   ]
  },
  {
   "cell_type": "code",
   "execution_count": 99,
   "metadata": {},
   "outputs": [
    {
     "output_type": "execute_result",
     "data": {
      "text/plain": [
       "<KeysViewHDF5 ['part0-node0-offsets', 'part0-node1-data']>"
      ]
     },
     "metadata": {},
     "execution_count": 99
    }
   ],
   "source": [
    "ak_array = ak.from_iter(phi)\n",
    "form, length, container = ak.to_buffers(ak_array,container=phiArray)\n",
    "phiArray.attrs[\"form\"] = form.tojson()\n",
    "phiArray.attrs[\"length\"] = json.dumps(length)\n",
    "phiArray.keys()"
   ]
  },
  {
   "cell_type": "code",
   "execution_count": 104,
   "metadata": {},
   "outputs": [],
   "source": [
    "hf.close()"
   ]
  },
  {
   "source": [
    "## Accesor\n",
    "\n",
    "Creating an accesor that converts the generated HDF5 file to python list for demonstration"
   ],
   "cell_type": "markdown",
   "metadata": {}
  },
  {
   "cell_type": "code",
   "execution_count": 111,
   "metadata": {},
   "outputs": [
    {
     "output_type": "stream",
     "name": "stdout",
     "text": [
      "<KeysViewHDF5 ['AzimuthalAngle', 'EtaAngle', 'ParticleArray', 'PhiAngle']>\n"
     ]
    }
   ],
   "source": [
    "hf = h5py.File('../../datasets/partonCuts/ttbar_10k.h5','r')\n",
    "print(hf.keys())\n",
    "partArray = hf.get(\"ParticleArray\")\n",
    "azimuthalArray = hf.get(\"AzimuthalAngle\")\n",
    "etaArray = hf.get(\"EtaAngle\")\n",
    "phiArray = hf.get(\"PhiAngle\")"
   ]
  },
  {
   "cell_type": "code",
   "execution_count": 112,
   "metadata": {},
   "outputs": [
    {
     "output_type": "execute_result",
     "data": {
      "text/plain": [
       "<KeysViewHDF5 ['form', 'length']>"
      ]
     },
     "metadata": {},
     "execution_count": 112
    }
   ],
   "source": [
    "etaArray.attrs.keys()"
   ]
  },
  {
   "cell_type": "code",
   "execution_count": 113,
   "metadata": {},
   "outputs": [
    {
     "output_type": "execute_result",
     "data": {
      "text/plain": [
       "<Array [[1.03, 1.21, 0.996, ... -1.38, 0.391]] type='10000 * var * float64'>"
      ]
     },
     "metadata": {},
     "execution_count": 113
    }
   ],
   "source": [
    "reconstitutedPartArray = ak.from_buffers(\n",
    "    ak.forms.Form.fromjson(partArray.attrs[\"form\"]),\n",
    "    json.loads(partArray.attrs[\"length\"]),\n",
    "    {k: np.asarray(v) for k, v in partArray.items()},\n",
    ")\n",
    "reconstitutedPartArray\n",
    "\n",
    "reconstitutedAzAngle = ak.from_buffers(\n",
    "    ak.forms.Form.fromjson(azimuthalArray.attrs[\"form\"]),\n",
    "    json.loads(azimuthalArray.attrs[\"length\"]),\n",
    "    {k: np.asarray(v) for k, v in azimuthalArray.items()},\n",
    ")\n",
    "reconstitutedAzAngle\n",
    "\n",
    "reconstitutedEtaAngle = ak.from_buffers(\n",
    "    ak.forms.Form.fromjson(etaArray.attrs[\"form\"]),\n",
    "    json.loads(etaArray.attrs[\"length\"]),\n",
    "    {k: np.asarray(v) for k, v in etaArray.items()},\n",
    ")\n",
    "reconstitutedEtaAngle\n",
    "\n",
    "reconstitutedPhiAngle = ak.from_buffers(\n",
    "    ak.forms.Form.fromjson(phiArray.attrs[\"form\"]),\n",
    "    json.loads(phiArray.attrs[\"length\"]),\n",
    "    {k: np.asarray(v) for k, v in phiArray.items()},\n",
    ")\n",
    "reconstitutedEtaAngle"
   ]
  },
  {
   "cell_type": "code",
   "execution_count": 114,
   "metadata": {},
   "outputs": [],
   "source": [
    "particleArray = ak.to_list(reconstitutedPartArray)\n",
    "azArray = ak.to_list(reconstitutedAzAngle)\n",
    "etaArray = ak.to_list(reconstitutedEtaAngle)\n",
    "phiArray = ak.to_list(reconstitutedPhiAngle)"
   ]
  },
  {
   "cell_type": "code",
   "execution_count": 115,
   "metadata": {},
   "outputs": [
    {
     "output_type": "stream",
     "name": "stdout",
     "text": [
      "10000 7 7\n"
     ]
    }
   ],
   "source": [
    "print(len(particleArray),len(particleArray[0]),len(particleArray[0][0]))"
   ]
  },
  {
   "cell_type": "code",
   "execution_count": 116,
   "metadata": {},
   "outputs": [
    {
     "output_type": "stream",
     "name": "stdout",
     "text": [
      "10000 7\n"
     ]
    }
   ],
   "source": [
    "print(len(etaArray),len(etaArray[0]))"
   ]
  },
  {
   "source": [
    "## Baseline Cuts\n",
    "\n",
    "Applying the baseline cuts as required in the paper"
   ],
   "cell_type": "markdown",
   "metadata": {}
  },
  {
   "cell_type": "code",
   "execution_count": 8,
   "metadata": {},
   "outputs": [],
   "source": [
    "def printPretty(record):\n",
    "    print(\" Photon | Lepton | Jet  | MET |  pt   |   E   |  mass \")\n",
    "    print(\"------------------------------------------------------\")\n",
    "    for i in record:\n",
    "        print(\"   \"+ str(i[0]) + \"    |\" + \"   \" +str('%2d' % i[1]) + \"   |\" + \"  \"+str('%2d'%i[2])+\"  |\" + \"  \"+ str(i[3]) + \"  |\" + str('%7.3f' % i[4]) + \"|\" + str('%7.3f' % i[5]) + \"|\" + str('%7.3f' % i[6]))\n"
   ]
  },
  {
   "cell_type": "code",
   "execution_count": 14,
   "metadata": {
    "tags": [
     "outputPrepend"
    ]
   },
   "outputs": [
    {
     "output_type": "stream",
     "name": "stdout",
     "text": [
      " 7.954\n",
      "   0    |    0   |  -1  |  0  | 32.036|203.869|  1.123\n",
      "   0    |    0   |   0  |  1  | 92.986| 92.986|  0.000\n",
      "   0    |    1   |   0  |  0  | 18.628| 65.892|  0.000\n",
      "\n",
      "Non b-tagged\n",
      " Photon | Lepton | Jet  | MET |  pt   |   E   |  mass \n",
      "------------------------------------------------------\n",
      "   0    |    0   |   1  |  0  | 48.327| 50.823|  6.545\n",
      "   0    |    0   |  -1  |  0  | 43.432| 79.111|  8.864\n",
      "   0    |    0   |   1  |  0  | 39.115|122.564|  5.846\n",
      "   0    |   -1   |   0  |  0  | 28.382| 30.668|  0.000\n",
      "   0    |    0   |   0  |  1  | 15.884| 15.884|  0.000\n",
      "   0    |    1   |   0  |  0  | 32.319| 34.813|  0.000\n",
      "\n",
      "Non b-tagged\n",
      " Photon | Lepton | Jet  | MET |  pt   |   E   |  mass \n",
      "------------------------------------------------------\n",
      "   0    |    0   |  -1  |  0  |244.642|454.351| 16.433\n",
      "   0    |    0   |   1  |  0  |128.456|137.071| 13.980\n",
      "   0    |    0   |  -1  |  0  |109.071|348.924| 13.952\n",
      "   0    |    0   |   1  |  0  |108.193|180.150| 20.426\n",
      "   0    |    0   |  -1  |  0  | 38.341|119.333|  3.118\n",
      "   0    |    0   |  -1  |  0  | 36.138| 78.731| 10.083\n",
      "   0    |    0   |   0  |  1  |122.997|122.997|  0.000\n",
      "\n",
      "No 2 b-tagged Jets\n",
      " Photon | Lepton | Jet  | MET |  pt   |   E   |  mass \n",
      "------------------------------------------------------\n",
      "   0    |    0   |  -1  |  0  | 93.074|140.927| 20.895\n",
      "   0    |    0   |  -1  |  0  | 38.431| 39.052|  4.486\n",
      "   0    |   -1   |   0  |  0  | 49.950| 83.594|  0.000\n",
      "   0    |    1   |   0  |  0  | 39.684| 47.079|  0.000\n",
      "   0    |    0   |   0  |  1  | 45.682| 45.682|  0.000\n",
      "\n",
      "No 2 b-tagged Jets\n",
      " Photon | Lepton | Jet  | MET |  pt   |   E   |  mass \n",
      "------------------------------------------------------\n",
      "   0    |    0   |  -1  |  0  | 62.126|500.757|  4.521\n",
      "   0    |    0   |  -1  |  0  | 56.184|204.898|  5.361\n",
      "   0    |    0   |  -1  |  0  | 24.220| 44.165|  3.669\n",
      "   0    |    0   |  -1  |  0  | 22.831| 42.608|  7.176\n",
      "   0    |    0   |   0  |  1  | 57.521| 57.521|  0.000\n",
      "   0    |   -1   |   0  |  0  | 21.337|112.617|  0.000\n"
     ]
    }
   ],
   "source": [
    "# Cuts for Leading Jet being b-tagged\n",
    "# Leading Jets are Higher PT Jets\n",
    "\n",
    "tempDictList = eventDict\n",
    "cutDict = []\n",
    "for i in tempDictList:\n",
    "    \n",
    "    noJets = 0\n",
    "    ptJetsb = []\n",
    "    ptJetsNob = []\n",
    "    ptAllJets = []\n",
    "    \n",
    "    for momenta in i[\"fourMomenta\"]:\n",
    "        if momenta[2] == 1:\n",
    "            noJets += 1\n",
    "            ptJetsb.append(momenta[4])\n",
    "            ptAllJets.append(momenta[4])\n",
    "            \n",
    "        elif momenta[2] == -1:\n",
    "            noJets += 1\n",
    "            ptJetsNob.append(momenta[4])\n",
    "            ptAllJets.append(momenta[4])\n",
    "    \n",
    "    if len(ptJetsb) < 2:\n",
    "        print()\n",
    "        print(\"No 2 b-tagged Jets\")\n",
    "        printPretty(i[\"fourMomenta\"])\n",
    "        eventDict.remove(i)\n",
    "        totalEvents -= 1\n",
    "        continue\n",
    "\n",
    "    flag = False\n",
    "    ptAllJets.sort(reverse=True)\n",
    "    \n",
    "    if ptAllJets[0] in ptJetsb and ptAllJets[1] in ptJetsb:\n",
    "        flag = True\n",
    "    \n",
    "    if flag == False:\n",
    "        print()\n",
    "        print(\"Non b-tagged\")\n",
    "        printPretty(i[\"fourMomenta\"])\n",
    "        eventDict.remove(i)\n",
    "        totalEvents -= 1\n",
    "        continue\n",
    "\n",
    "    cutDict.append(i)\n",
    "    \n",
    "    #self.printPretty(\"fourMomenta\",i[\"fourMomenta\"])"
   ]
  },
  {
   "cell_type": "code",
   "execution_count": 15,
   "metadata": {
    "tags": [
     "outputPrepend"
    ]
   },
   "outputs": [
    {
     "output_type": "stream",
     "name": "stdout",
     "text": [
      "046| 62.046|  0.000\n",
      "   0    |    1   |   0  |  0  | 60.490| 73.361|  0.000\n",
      "   0    |   -1   |   0  |  0  | 12.502| 12.521|  0.000\n",
      " Photon | Lepton | Jet  | MET |  pt   |   E   |  mass \n",
      "------------------------------------------------------\n",
      "   0    |    0   |   1  |  0  | 62.907| 63.707|  8.563\n",
      "   0    |    0   |   1  |  0  | 49.231|103.588| 12.003\n",
      "   0    |    0   |  -1  |  0  | 36.716| 38.698|  3.328\n",
      "   0    |    0   |  -1  |  0  | 28.849| 29.770|  6.917\n",
      "   0    |    1   |   0  |  0  | 30.088| 36.482|  0.000\n",
      "   0    |    0   |   0  |  1  | 37.334| 37.334|  0.000\n",
      " Photon | Lepton | Jet  | MET |  pt   |   E   |  mass \n",
      "------------------------------------------------------\n",
      "   0    |    0   |   1  |  0  | 83.371|111.462| 10.857\n",
      "   0    |    0   |   1  |  0  | 45.120| 75.783| 12.572\n",
      "   0    |    1   |   0  |  0  | 29.695| 56.982|  0.000\n",
      "   0    |    0   |   0  |  1  | 45.921| 45.921|  0.000\n",
      " Photon | Lepton | Jet  | MET |  pt   |   E   |  mass \n",
      "------------------------------------------------------\n",
      "   0    |    0   |   1  |  0  | 51.677|106.569|  6.354\n",
      "   0    |    0   |   1  |  0  | 47.171| 60.545|  5.868\n",
      "   0    |    1   |   0  |  0  | 12.226| 13.003|  0.000\n",
      "   0    |    0   |   0  |  1  | 51.535| 51.535|  0.000\n",
      "   0    |   -1   |   0  |  0  | 43.984| 90.346|  0.000\n",
      " Photon | Lepton | Jet  | MET |  pt   |   E   |  mass \n",
      "------------------------------------------------------\n",
      "   1    |    0   |   0  |  0  | 20.343| 55.989|  0.000\n",
      "   0    |    0   |   1  |  0  | 75.994|344.325| 18.875\n",
      "   0    |    0   |   1  |  0  | 34.595| 51.903|  5.925\n",
      "   0    |    0   |   0  |  1  | 33.620| 33.620|  0.000\n",
      "   0    |   -1   |   0  |  0  | 43.556| 93.544|  0.000\n",
      " Photon | Lepton | Jet  | MET |  pt   |   E   |  mass \n",
      "------------------------------------------------------\n",
      "   0    |    0   |   1  |  0  | 67.685|291.981| 15.661\n",
      "   0    |    0   |   1  |  0  | 44.539| 70.151| 12.253\n",
      "   0    |    0   |   0  |  1  | 20.346| 20.346|  0.000\n",
      "   0    |    1   |   0  |  0  | 23.119| 64.543|  0.000\n"
     ]
    }
   ],
   "source": [
    "for record in range(len(cutDict)):\n",
    "    print(\" Photon | Lepton | Jet  | MET |  pt   |   E   |  mass \")\n",
    "    print(\"------------------------------------------------------\")\n",
    "    for i in cutDict[record][\"fourMomenta\"]:\n",
    "        print(\"   \"+ str(i[0]) + \"    |\" + \"   \" +str('%2d' % i[1]) + \"   |\" + \"  \"+str('%2d'%i[2])+\"  |\" + \"  \"+ str(i[3]) + \"  |\" + str('%7.3f' % i[4]) + \"|\" + str('%7.3f' % i[5]) + \"|\" + str('%7.3f' % i[6]))"
   ]
  },
  {
   "cell_type": "code",
   "execution_count": 17,
   "metadata": {},
   "outputs": [
    {
     "output_type": "execute_result",
     "data": {
      "text/plain": [
       "1178"
      ]
     },
     "metadata": {},
     "execution_count": 17
    }
   ],
   "source": [
    "len(cutDict)"
   ]
  },
  {
   "cell_type": "code",
   "execution_count": 20,
   "metadata": {},
   "outputs": [],
   "source": [
    "for i in cutDict:\n",
    "    noBJets = 0\n",
    "    ptBJets = []\n",
    "    ptAllJets = []\n",
    "    for j in i['fourMomenta']:\n",
    "        if j[2] == 1:\n",
    "            ptAllJets.append(j[4])\n",
    "            ptBJets.append(j[4])\n",
    "        elif j[2] == -1:\n",
    "            ptAllJets.append(j[4])\n",
    "\n",
    "    ptAllJets.sort(reverse=True)\n",
    "    if ptAllJets[0] not in ptBJets or ptAllJets[1] not in ptBJets:\n",
    "        printPretty(i['fourMomenta'])"
   ]
  }
 ]
}