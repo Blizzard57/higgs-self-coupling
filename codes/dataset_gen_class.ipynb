{
 "metadata": {
  "language_info": {
   "codemirror_mode": {
    "name": "ipython",
    "version": 3
   },
   "file_extension": ".py",
   "mimetype": "text/x-python",
   "name": "python",
   "nbconvert_exporter": "python",
   "pygments_lexer": "ipython3",
   "version": "3.8.5"
  },
  "orig_nbformat": 2,
  "kernelspec": {
   "name": "python385jvsc74a57bd031f2aee4e71d21fbe5cf8b01ff0e069b9275f58929596ceb00d14d90e3e16cd6",
   "display_name": "Python 3.8.5 64-bit"
  },
  "metadata": {
   "interpreter": {
    "hash": "31f2aee4e71d21fbe5cf8b01ff0e069b9275f58929596ceb00d14d90e3e16cd6"
   }
  }
 },
 "nbformat": 4,
 "nbformat_minor": 2,
 "cells": [
  {
   "source": [
    "# Class for Generation of Dataset\n",
    "\n",
    "Making the process of generation of dataset a much simpler task"
   ],
   "cell_type": "markdown",
   "metadata": {}
  },
  {
   "cell_type": "code",
   "execution_count": 12,
   "metadata": {},
   "outputs": [
    {
     "output_type": "execute_result",
     "data": {
      "text/plain": [
       "-1"
      ]
     },
     "metadata": {},
     "execution_count": 12
    },
    {
     "output_type": "stream",
     "name": "stderr",
     "text": [
      "cling::DynamicLibraryManager::loadLibrary(): libCore.so.6.22: cannot open shared object file: No such file or directory\n"
     ]
    }
   ],
   "source": [
    "# Imports pyRoot, which requires a manual compile as defaut ROOT binary comes with a python2 support\n",
    "import ROOT\n",
    "from ROOT import TLorentzVector\n",
    "from math import sqrt\n",
    "import h5py\n",
    "import numpy as np\n",
    "import awkward as ak\n",
    "import pandas as pd\n",
    "import json\n",
    "\n",
    "ROOT.gSystem.Load(\"libDelphes.so\")"
   ]
  },
  {
   "cell_type": "code",
   "execution_count": 40,
   "metadata": {},
   "outputs": [],
   "source": [
    "class GenDataset():\n",
    "    def __init__(self,delphesRootFile,isRapid : bool = True):\n",
    "        self.delphesFile = delphesRootFile\n",
    "        self.isRapid = isRapid\n",
    "\n",
    "    def createArrays(self):\n",
    "        File = ROOT.TChain(\"Delphes;1\")\n",
    "        File.Add(self.delphesFile)\n",
    "        self.totalEvents = File.GetEntries()\n",
    "\n",
    "        eventDict = []\n",
    "        for i in range(self.totalEvents):\n",
    "        \tEntry = File.GetEntry(i)\n",
    "\n",
    "        \tepArray = []\n",
    "        \tezArray = []\n",
    "        \taz_angle = [] # Azimuthal Angle\n",
    "        \tra_angle = [] # Rapidity\n",
    "\n",
    "        \tEntryFromBranch = File.Photon.GetEntries()\t\n",
    "        \tfor j in range(EntryFromBranch):\n",
    "        \t\tparticleArray = [1,0,0,0,File.GetLeaf(\"Photon.PT\").GetValue(j),File.GetLeaf(\"Photon.E\").GetValue(j),0]\n",
    "        \t\tepArray.append(particleArray)\n",
    "\n",
    "        \t\taz_angle.append(File.GetLeaf(\"Photon.Phi\").GetValue(j))\n",
    "        \t\tra_angle.append(File.GetLeaf(\"Photon.Eta\").GetValue(j))\n",
    "\n",
    "\n",
    "        \tEntryFromBranch = File.Jet.GetEntries()\n",
    "        \tfor j in range(EntryFromBranch):\n",
    "            \n",
    "        \t\tJet = TLorentzVector()\n",
    "        \t\tJet.SetPtEtaPhiM(File.GetLeaf(\"Jet.PT\").GetValue(j),File.GetLeaf(\"Jet.Eta\").GetValue(j),File.GetLeaf(\"Jet.Phi\").GetValue(j),File.GetLeaf(\"Jet.Mass\").GetValue(j))\n",
    "\n",
    "        \t\tparticleArray = [0,0,1 if int(File.GetLeaf(\"Jet.BTag\").GetValue(j)) == 1 else -1,0,File.GetLeaf(\"Jet.PT\").GetValue(j),Jet.Energy(),File.GetLeaf(\"Jet.Mass\").GetValue(j)]\n",
    "        \t\tepArray.append(particleArray)\n",
    "\n",
    "        \t\taz_angle.append(File.GetLeaf(\"Jet.Phi\").GetValue(j))\n",
    "        \t\tra_angle.append(File.GetLeaf(\"Jet.Eta\").GetValue(j))\n",
    "\n",
    "        \tEntryFromBranch = File.Electron.GetEntries()\n",
    "        \tfor j in range(EntryFromBranch):\n",
    "        \t\tElectron = TLorentzVector()\n",
    "        \t\tElectron.SetPtEtaPhiM(File.GetLeaf(\"Electron.PT\").GetValue(j),File.GetLeaf(\"Electron.Eta\").GetValue(j),File.GetLeaf     (\"Electron.Phi\").GetValue(j),0)\n",
    "\n",
    "        \t\tparticleArray = [0,int(File.GetLeaf(\"Electron.Charge\").GetValue(j)),0,0,File.GetLeaf(\"Electron.PT\").GetValue(j),        Electron.Energy(),0]\n",
    "        \t\tepArray.append(particleArray)\n",
    "\n",
    "        \t\taz_angle.append(File.GetLeaf(\"Electron.Phi\").GetValue(j))\n",
    "        \t\tra_angle.append(File.GetLeaf(\"Electron.Eta\").GetValue(j))\n",
    "\n",
    "\n",
    "        \tEntryFromBranch = File.MissingET.GetEntries()\n",
    "        \tfor j in range(EntryFromBranch):\n",
    "        \t\tparticleArray = [0,0,0,1,File.GetLeaf(\"MissingET.MET\").GetValue(j),File.GetLeaf(\"MissingET.MET\").GetValue(j),0]\t\n",
    "        \t\tepArray.append(particleArray)\n",
    "\n",
    "        \t\taz_angle.append(File.GetLeaf(\"MissingET.Phi\").GetValue(j))\n",
    "        \t\tra_angle.append(File.GetLeaf(\"MissingET.Eta\").GetValue(j))\n",
    "\n",
    "\n",
    "        \tEntryFromBranch = File.Muon.GetEntries()\n",
    "        \tfor j in range(EntryFromBranch):\n",
    "            \n",
    "        \t\tMuon = TLorentzVector()\n",
    "        \t\tMuon.SetPtEtaPhiM(File.GetLeaf(\"Muon.PT\").GetValue(j),File.GetLeaf(\"Muon.Eta\").GetValue(j),File.GetLeaf(\"Muon.Phi\").GetValue(j),0)\n",
    "\n",
    "        \t\tparticleArray = [0,int(File.GetLeaf(\"Muon.Charge\").GetValue(j)),0,0,File.GetLeaf(\"Muon.PT\").GetValue(j),Muon.Energy(),0]\n",
    "        \t\tepArray.append(particleArray)\n",
    "\n",
    "        \t\taz_angle.append(File.GetLeaf(\"Muon.Phi\").GetValue(j))\n",
    "        \t\tra_angle.append(File.GetLeaf(\"Muon.Eta\").GetValue(j))\n",
    "\n",
    "\n",
    "        \t# Getting the Angular Angle Distance\n",
    "        \tnoPart = len(az_angle) # Number of particles in the event\n",
    "\n",
    "        \tif self.isRapid:\n",
    "        \t\tfor i in range(noPart):\n",
    "        \t\t\ttempAng = []\n",
    "        \t\t\tfor j in range(noPart):\n",
    "        \t\t\t\ttempAng.append(sqrt((az_angle[i] - az_angle[j])**2 + (ra_angle[i] - ra_angle[j])**2))\n",
    "        \t\t\tezArray.append(tempAng)\n",
    "\n",
    "        \telse:\n",
    "        \t\tfor i in range(noPart):\n",
    "        \t\t\ttempAng = []\n",
    "        \t\t\tfor j in range(noPart):\n",
    "        \t\t\t\ttempAng.append(az_angle[i] - az_angle[j])\n",
    "        \t\t\tezArray.append(tempAng)\n",
    "\n",
    "        \teventDict.append({\"fourMomenta\" : epArray,\"azimuthalAngle\" : ezArray})\n",
    "\n",
    "        self.datasetDict = eventDict\n",
    "\n",
    "    def createDataset(self,outputFile):\n",
    "        xArray = []\n",
    "        for i in range(self.totalEvents):\n",
    "            xArray.append(self.datasetDict[i][\"fourMomenta\"])\n",
    "\n",
    "        azArray = []\n",
    "        for i in range(self.totalEvents):\n",
    "            azArray.append(self.datasetDict[i][\"azimuthalAngle\"])\n",
    "\n",
    "        hf = h5py.File(outputFile,'w')\n",
    "        partArray = hf.create_group(\"ParticleArray\")\n",
    "        azimuthalArray = hf.create_group(\"AzimuthalAngle\")\n",
    "\n",
    "        # Convert Particle Array to HDF5 Group\n",
    "\n",
    "        ak_array = ak.from_iter(xArray)\n",
    "        form, length, container = ak.to_buffers(ak_array,container=partArray)\n",
    "        partArray.attrs[\"form\"] = form.tojson()\n",
    "        partArray.attrs[\"length\"] = json.dumps(length)\n",
    "\n",
    "        # Convert Azimuthal Angle Array to HDF5 Group\n",
    "\n",
    "        ak_array = ak.from_iter(azArray)\n",
    "        form, length, container = ak.to_buffers(ak_array,container=azimuthalArray)\n",
    "        azimuthalArray.attrs[\"form\"] = form.tojson()\n",
    "        azimuthalArray.attrs[\"length\"] = json.dumps(length)\n",
    "\n",
    "        hf.close()\n",
    "\n",
    "    def getArraysFromFile(self,inputFile):\n",
    "        hf = h5py.File(inputFile,'r')\n",
    "        partArray = hf.get(\"ParticleArray\")\n",
    "        azimuthalArray = hf.get(\"AzimuthalAngle\")\n",
    "\n",
    "        reconstitutedPartArray = ak.from_buffers(\n",
    "            ak.forms.Form.fromjson(partArray.attrs[\"form\"]),\n",
    "            json.loads(partArray.attrs[\"length\"]),\n",
    "            {k: np.asarray(v) for k, v in partArray.items()},\n",
    "        )\n",
    "        particleArray = ak.to_list(reconstitutedPartArray)\n",
    "\n",
    "        reconstitutedAzAngle = ak.from_buffers(\n",
    "            ak.forms.Form.fromjson(azimuthalArray.attrs[\"form\"]),\n",
    "            json.loads(azimuthalArray.attrs[\"length\"]),\n",
    "            {k: np.asarray(v) for k, v in azimuthalArray.items()},\n",
    "        )\n",
    "        azArray = ak.to_list(reconstitutedAzAngle)\n",
    "\n",
    "        return particleArray,azArray\n",
    "\n",
    "    def getPlots(self,arrayType : str,recordNo : int = 0):\n",
    "        if arrayType == 'fourMomenta':    \n",
    "            print(\" Photon | Lepton | Jet  | MET |  pt   |   E   |  mass \")\n",
    "            print(\"------------------------------------------------------\")\n",
    "            for i in self.datasetDict[recordNo][\"fourMomenta\"]:\n",
    "                print(\"   \"+ str(i[0]) + \"    |\" + \"   \" +str('%2d' % i[1]) + \"   |\" + \"  \"+str('%2d'%i[2])+\"  |\" + \"  \"+ str(i[3]) + \"  |\" + str('%7.3f' % i[4]) + \"|\" + str('%7.3f' % i[5]) + \"|\" + str('%7.3f' % i[6]))\n",
    "\n",
    "        else :\n",
    "            partNo = len(self.datasetDict[recordNo][\"azimuthalAngle\"])\n",
    "            print(\" \"*10 + \"|\",end=\"\")\n",
    "            for i in range(partNo):\n",
    "                print('%5d'%i + \"     |\",end=\"\")\n",
    "            print()\n",
    "            print(\"-----------\"*(partNo+1))\n",
    "            for i in range(partNo):\n",
    "                print('%5d'%i + \"     |\",end=\"\")\n",
    "                for j in range(partNo):\n",
    "                    print('%10.5f'%self.datasetDict[recordNo][\"azimuthalAngle\"][i][j] + \"|\",end=\"\")\n",
    "                print()"
   ]
  },
  {
   "cell_type": "code",
   "execution_count": 41,
   "metadata": {},
   "outputs": [],
   "source": [
    "s1 = GenDataset(\"/home/blizzard/Tests/hh_bbWW/Events/run_01/tag_1_delphes_events.root\")\n",
    "s1.createArrays()"
   ]
  },
  {
   "cell_type": "code",
   "execution_count": 42,
   "metadata": {},
   "outputs": [
    {
     "output_type": "stream",
     "name": "stdout",
     "text": [
      "          |    0     |    1     |    2     |    3     |    4     |    5     |    6     |\n----------------------------------------------------------------------------------------\n    0     |   0.00000|   5.36049|   4.54552|   1.75779|   3.80420|   3.60204|   3.07753|\n    1     |   5.36049|   0.00000|   1.21813|   4.07778|   3.46719|   3.69358|   3.11844|\n    2     |   4.54552|   1.21813|   0.00000|   3.57888|   2.25025|   2.47568|   1.95150|\n    3     |   1.75779|   4.07778|   3.57888|   0.00000|   3.79644|   3.71306|   2.87402|\n    4     |   3.80420|   3.46719|   2.25025|   3.79644|   0.00000|   0.29172|   0.93283|\n    5     |   3.60204|   3.69358|   2.47568|   3.71306|   0.29172|   0.00000|   0.92129|\n    6     |   3.07753|   3.11844|   1.95150|   2.87402|   0.93283|   0.92129|   0.00000|\n"
     ]
    }
   ],
   "source": [
    "s1.getPlots(\"azimuthalAngle\",400)"
   ]
  }
 ]
}